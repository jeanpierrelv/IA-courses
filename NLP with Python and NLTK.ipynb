{
  "nbformat": 4,
  "nbformat_minor": 0,
  "metadata": {
    "colab": {
      "name": "NLP with Python and NLTK.ipynb",
      "provenance": [],
      "authorship_tag": "ABX9TyOhUf/t1456RHNcsRDZ/NGj"
    },
    "kernelspec": {
      "name": "python3",
      "display_name": "Python 3"
    },
    "language_info": {
      "name": "python"
    }
  },
  "cells": [
    {
      "cell_type": "markdown",
      "metadata": {
        "id": "CsXV6fA6wyx4"
      },
      "source": [
        "# **How use NLTK in Google colab**"
      ]
    },
    {
      "cell_type": "code",
      "metadata": {
        "colab": {
          "base_uri": "https://localhost:8080/"
        },
        "id": "fi2WasGbuOlY",
        "outputId": "2102b49d-48cd-480b-a200-bebcaae20af8"
      },
      "source": [
        "import nltk\n",
        "nltk.download('cess_esp')"
      ],
      "execution_count": 1,
      "outputs": [
        {
          "output_type": "stream",
          "text": [
            "[nltk_data] Downloading package cess_esp to /root/nltk_data...\n",
            "[nltk_data]   Unzipping corpora/cess_esp.zip.\n"
          ],
          "name": "stdout"
        },
        {
          "output_type": "execute_result",
          "data": {
            "text/plain": [
              "True"
            ]
          },
          "metadata": {
            "tags": []
          },
          "execution_count": 1
        }
      ]
    },
    {
      "cell_type": "markdown",
      "metadata": {
        "id": "QgCJuDO5Ed5S"
      },
      "source": [
        "# **Regular Expressions**\n",
        "\n",
        "\n",
        "\n",
        "* They are a standardized language for defining text search strings.\n",
        "* Python re regular expression operations library.\n",
        "* Rules for write regular expression\n"
      ]
    },
    {
      "cell_type": "code",
      "metadata": {
        "colab": {
          "base_uri": "https://localhost:8080/"
        },
        "id": "dLq6h9zlEbTT",
        "outputId": "2c636ad0-20f8-47cf-d110-8740a3c847fb"
      },
      "source": [
        "import re\n",
        "corpus = nltk.corpus.cess_esp.sents()\n",
        "print(corpus)\n",
        "print(len(corpus))"
      ],
      "execution_count": 2,
      "outputs": [
        {
          "output_type": "stream",
          "text": [
            "[['El', 'grupo', 'estatal', 'Electricité_de_France', '-Fpa-', 'EDF', '-Fpt-', 'anunció', 'hoy', ',', 'jueves', ',', 'la', 'compra', 'del', '51_por_ciento', 'de', 'la', 'empresa', 'mexicana', 'Electricidad_Águila_de_Altamira', '-Fpa-', 'EAA', '-Fpt-', ',', 'creada', 'por', 'el', 'japonés', 'Mitsubishi_Corporation', 'para', 'poner_en_marcha', 'una', 'central', 'de', 'gas', 'de', '495', 'megavatios', '.'], ['Una', 'portavoz', 'de', 'EDF', 'explicó', 'a', 'EFE', 'que', 'el', 'proyecto', 'para', 'la', 'construcción', 'de', 'Altamira_2', ',', 'al', 'norte', 'de', 'Tampico', ',', 'prevé', 'la', 'utilización', 'de', 'gas', 'natural', 'como', 'combustible', 'principal', 'en', 'una', 'central', 'de', 'ciclo', 'combinado', 'que', 'debe', 'empezar', 'a', 'funcionar', 'en', 'mayo_del_2002', '.'], ...]\n",
            "6030\n"
          ],
          "name": "stdout"
        }
      ]
    },
    {
      "cell_type": "code",
      "metadata": {
        "colab": {
          "base_uri": "https://localhost:8080/"
        },
        "id": "seWfdBxHH9pC",
        "outputId": "c6c593ce-03d8-4a57-ea08-f5da9729745a"
      },
      "source": [
        "flatten = [w for l in corpus for w in l]\n",
        "print(flatten[:100])"
      ],
      "execution_count": 3,
      "outputs": [
        {
          "output_type": "stream",
          "text": [
            "['El', 'grupo', 'estatal', 'Electricité_de_France', '-Fpa-', 'EDF', '-Fpt-', 'anunció', 'hoy', ',', 'jueves', ',', 'la', 'compra', 'del', '51_por_ciento', 'de', 'la', 'empresa', 'mexicana', 'Electricidad_Águila_de_Altamira', '-Fpa-', 'EAA', '-Fpt-', ',', 'creada', 'por', 'el', 'japonés', 'Mitsubishi_Corporation', 'para', 'poner_en_marcha', 'una', 'central', 'de', 'gas', 'de', '495', 'megavatios', '.', 'Una', 'portavoz', 'de', 'EDF', 'explicó', 'a', 'EFE', 'que', 'el', 'proyecto', 'para', 'la', 'construcción', 'de', 'Altamira_2', ',', 'al', 'norte', 'de', 'Tampico', ',', 'prevé', 'la', 'utilización', 'de', 'gas', 'natural', 'como', 'combustible', 'principal', 'en', 'una', 'central', 'de', 'ciclo', 'combinado', 'que', 'debe', 'empezar', 'a', 'funcionar', 'en', 'mayo_del_2002', '.', 'La', 'electricidad', 'producida', 'pasará', 'a', 'la', 'red', 'eléctrica', 'pública', 'de', 'México', 'en_virtud_de', 'un', 'acuerdo', 'de', 'venta']\n"
          ],
          "name": "stdout"
        }
      ]
    },
    {
      "cell_type": "markdown",
      "metadata": {
        "id": "e3fKXG7dGZB_"
      },
      "source": [
        "### Structure of re.search() function\n",
        "\n",
        "Determine if the search pattern p is contained into the string s\n",
        "\n",
        "re.search(p, s)"
      ]
    },
    {
      "cell_type": "code",
      "metadata": {
        "colab": {
          "base_uri": "https://localhost:8080/"
        },
        "id": "vgG-l94XG0CU",
        "outputId": "17a21b6e-c361-4e84-9468-725f0e8fd26a"
      },
      "source": [
        "arr = [w for w in flatten if re.search('es', w)]\n",
        "print(arr[:5])"
      ],
      "execution_count": 4,
      "outputs": [
        {
          "output_type": "stream",
          "text": [
            "['estatal', 'jueves', 'empresa', 'centrales', 'francesa']\n"
          ],
          "name": "stdout"
        }
      ]
    },
    {
      "cell_type": "code",
      "metadata": {
        "colab": {
          "base_uri": "https://localhost:8080/"
        },
        "id": "sFt3yqPxHh0F",
        "outputId": "fc7c321f-ce9d-491d-85b7-8306ed9fc4cb"
      },
      "source": [
        "arr = [w for w in flatten if re.search('es$', w)]\n",
        "print(arr[:5])"
      ],
      "execution_count": 5,
      "outputs": [
        {
          "output_type": "stream",
          "text": [
            "['jueves', 'centrales', 'millones', 'millones', 'dólares']\n"
          ],
          "name": "stdout"
        }
      ]
    },
    {
      "cell_type": "code",
      "metadata": {
        "colab": {
          "base_uri": "https://localhost:8080/"
        },
        "id": "nA37kIUQH0q-",
        "outputId": "cedf32f7-83cd-49af-efbe-501b770188e7"
      },
      "source": [
        "arr = [w for w in flatten if re.search('^es', w)]\n",
        "print(arr[:5])"
      ],
      "execution_count": 6,
      "outputs": [
        {
          "output_type": "stream",
          "text": [
            "['estatal', 'es', 'esta', 'esta', 'eso']\n"
          ],
          "name": "stdout"
        }
      ]
    },
    {
      "cell_type": "code",
      "metadata": {
        "colab": {
          "base_uri": "https://localhost:8080/"
        },
        "id": "WzZ_Z4fAH3n_",
        "outputId": "e4185b93-5831-42fc-ad45-a726e9df58e7"
      },
      "source": [
        "#Rango [a-z] [ghi]\n",
        "arr = [w for w in flatten if re.search('^[ghi]', w)]\n",
        "print(arr[:10])"
      ],
      "execution_count": 7,
      "outputs": [
        {
          "output_type": "stream",
          "text": [
            "['grupo', 'hoy', 'gas', 'gas', 'intervendrá', 'invertir', 'gas', 'hoy', 'insulto', 'intervención']\n"
          ],
          "name": "stdout"
        }
      ]
    },
    {
      "cell_type": "code",
      "metadata": {
        "id": "01ZzbtKPIqPi",
        "colab": {
          "base_uri": "https://localhost:8080/"
        },
        "outputId": "a3128517-91db-4ffb-ba74-a8e3cb156e9d"
      },
      "source": [
        "# Clausura\n",
        "# * repetir 0 o mas veces\n",
        "# + repetir 1 o mas veces\n",
        "arr = [w for w in flatten if re.search('^(no)+', w)]\n",
        "print(arr[:20])"
      ],
      "execution_count": 8,
      "outputs": [
        {
          "output_type": "stream",
          "text": [
            "['norte', 'no', 'no', 'noche', 'no', 'no', 'notificación', 'no', 'no', 'no', 'no_obstante', 'no', 'no', 'no', 'norte', 'no', 'no', 'no', 'no', 'norteamericano']\n"
          ],
          "name": "stdout"
        }
      ]
    },
    {
      "cell_type": "markdown",
      "metadata": {
        "id": "nXx3_eZ8lFaA"
      },
      "source": [
        "### Text Normalization (as an applications of regular expressions)"
      ]
    },
    {
      "cell_type": "code",
      "metadata": {
        "id": "lZOKNKRrJZzD",
        "colab": {
          "base_uri": "https://localhost:8080/"
        },
        "outputId": "cb1ca453-7693-475c-a709-07846b8f3899"
      },
      "source": [
        "#raw\n",
        "print(r'esta es \\n una prueba')"
      ],
      "execution_count": 12,
      "outputs": [
        {
          "output_type": "stream",
          "text": [
            "esta es \\n una prueba\n"
          ],
          "name": "stdout"
        }
      ]
    },
    {
      "cell_type": "code",
      "metadata": {
        "colab": {
          "base_uri": "https://localhost:8080/"
        },
        "id": "vOKkp_1qlfLU",
        "outputId": "a951c0d6-a8f9-4610-ca69-73ec931be264"
      },
      "source": [
        "texto = \"\"\" Cuando sea el rey del mundo  (imaginaba él en su cabeza) no tendré que  preocuparme por estas bobadas. \n",
        "            Era solo un niño de 7 años, pero pensaba que podría ser cualquier cosa que su imaginación le permitiera visualizar en su cabeza ...\"\"\"\n",
        "print(texto)"
      ],
      "execution_count": 13,
      "outputs": [
        {
          "output_type": "stream",
          "text": [
            " Cuando sea el rey del mundo  (imaginaba él en su cabeza) no tendré que  preocuparme por estas bobadas. \n",
            "            Era solo un niño de 7 años, pero pensaba que podría ser cualquier cosa que su imaginación le permitiera visualizar en su cabeza ...\n"
          ],
          "name": "stdout"
        }
      ]
    },
    {
      "cell_type": "code",
      "metadata": {
        "colab": {
          "base_uri": "https://localhost:8080/"
        },
        "id": "PP2wg6Fjmkgs",
        "outputId": "411e0d3b-47f8-43b0-ada6-ecc73536dfcd"
      },
      "source": [
        "# Case 1: tokenizing by blank space\n",
        "print(re.split(r' ', texto))"
      ],
      "execution_count": 15,
      "outputs": [
        {
          "output_type": "stream",
          "text": [
            "['', 'Cuando', 'sea', 'el', 'rey', 'del', 'mundo', '', '(imaginaba', 'él', 'en', 'su', 'cabeza)', 'no', 'tendré', 'que', '', 'preocuparme', 'por', 'estas', 'bobadas.', '\\n', '', '', '', '', '', '', '', '', '', '', '', 'Era', 'solo', 'un', 'niño', 'de', '7', 'años,', 'pero', 'pensaba', 'que', 'podría', 'ser', 'cualquier', 'cosa', 'que', 'su', 'imaginación', 'le', 'permitiera', 'visualizar', 'en', 'su', 'cabeza', '...']\n"
          ],
          "name": "stdout"
        }
      ]
    },
    {
      "cell_type": "code",
      "metadata": {
        "colab": {
          "base_uri": "https://localhost:8080/"
        },
        "id": "QsSYNuesmvU4",
        "outputId": "cccddbb3-7322-4e96-c714-fd4341c75384"
      },
      "source": [
        "# Case 2: Tokenizing by regex\n",
        "print(re.split(r'[ \\t\\n]+', texto))"
      ],
      "execution_count": 17,
      "outputs": [
        {
          "output_type": "stream",
          "text": [
            "['', 'Cuando', 'sea', 'el', 'rey', 'del', 'mundo', '(imaginaba', 'él', 'en', 'su', 'cabeza)', 'no', 'tendré', 'que', 'preocuparme', 'por', 'estas', 'bobadas.', 'Era', 'solo', 'un', 'niño', 'de', '7', 'años,', 'pero', 'pensaba', 'que', 'podría', 'ser', 'cualquier', 'cosa', 'que', 'su', 'imaginación', 'le', 'permitiera', 'visualizar', 'en', 'su', 'cabeza', '...']\n"
          ],
          "name": "stdout"
        }
      ]
    },
    {
      "cell_type": "code",
      "metadata": {
        "colab": {
          "base_uri": "https://localhost:8080/"
        },
        "id": "cJndys7snP8b",
        "outputId": "126db151-4eb2-4831-ab23-5657fbbdf5af"
      },
      "source": [
        "# Case 3:\n",
        "print(re.split(r'[\\W\\t\\n]+', texto))"
      ],
      "execution_count": 20,
      "outputs": [
        {
          "output_type": "stream",
          "text": [
            "['', 'Cuando', 'sea', 'el', 'rey', 'del', 'mundo', 'imaginaba', 'él', 'en', 'su', 'cabeza', 'no', 'tendré', 'que', 'preocuparme', 'por', 'estas', 'bobadas', 'Era', 'solo', 'un', 'niño', 'de', '7', 'años', 'pero', 'pensaba', 'que', 'podría', 'ser', 'cualquier', 'cosa', 'que', 'su', 'imaginación', 'le', 'permitiera', 'visualizar', 'en', 'su', 'cabeza', '']\n"
          ],
          "name": "stdout"
        }
      ]
    },
    {
      "cell_type": "markdown",
      "metadata": {
        "id": "cdQgDfG9nuUf"
      },
      "source": [
        "### Tokenizer of NLTK"
      ]
    },
    {
      "cell_type": "code",
      "metadata": {
        "colab": {
          "base_uri": "https://localhost:8080/"
        },
        "id": "ebQTQWEenhE4",
        "outputId": "6a3c3dac-1dee-4185-c5a9-eb9014c2f834"
      },
      "source": [
        "# our last regex dont work in this case: \n",
        "texto = 'En los E.U. esa postal vale $15.50 ...'\n",
        "print(re.split(r'[ \\W\\t\\n]+', texto))"
      ],
      "execution_count": 21,
      "outputs": [
        {
          "output_type": "stream",
          "text": [
            "['En', 'los', 'E', 'U', 'esa', 'postal', 'vale', '15', '50', '']\n"
          ],
          "name": "stdout"
        }
      ]
    },
    {
      "cell_type": "code",
      "metadata": {
        "colab": {
          "base_uri": "https://localhost:8080/"
        },
        "id": "I4Y5FQw3oHH3",
        "outputId": "ddbb3262-8893-4d86-c8fa-54bff6ad16a9"
      },
      "source": [
        "pattern = r'''(?x)                 # set flag to allow verbose regexps\n",
        "              (?:[A-Z]\\.)+         # abbreviations, e.g. U.S.A.\n",
        "              | \\w+(?:-\\w+)*       # words with optional internal hyphens\n",
        "              | \\$?\\d+(?:\\.\\d+)?%? # currency and percentages, e.g. $12.40, 82%\n",
        "              | \\.\\.\\.             # ellipsis\n",
        "              | [][.,;\"'?():-_`]   # these are separate tokens; includes ], [\n",
        "'''\n",
        "nltk.regexp_tokenize(texto, pattern)"
      ],
      "execution_count": 22,
      "outputs": [
        {
          "output_type": "execute_result",
          "data": {
            "text/plain": [
              "['En', 'los', 'E.U.', 'esa', 'postal', 'vale', '$15.50', '...']"
            ]
          },
          "metadata": {
            "tags": []
          },
          "execution_count": 22
        }
      ]
    },
    {
      "cell_type": "markdown",
      "metadata": {
        "id": "E1RqY5mIaPI3"
      },
      "source": [
        "## Basic Statistics of Language"
      ]
    },
    {
      "cell_type": "code",
      "metadata": {
        "colab": {
          "base_uri": "https://localhost:8080/"
        },
        "id": "xMYlH0CVogF3",
        "outputId": "b33cbf0e-b068-44a0-94a5-a5a95c8cd86f"
      },
      "source": [
        "import nltk\n",
        "nltk.download('book')\n",
        "from nltk.book import *\n",
        "import matplotlib.pyplot as plt\n",
        "import numpy as np"
      ],
      "execution_count": 1,
      "outputs": [
        {
          "output_type": "stream",
          "text": [
            "[nltk_data] Downloading collection 'book'\n",
            "[nltk_data]    | \n",
            "[nltk_data]    | Downloading package abc to /root/nltk_data...\n",
            "[nltk_data]    |   Unzipping corpora/abc.zip.\n",
            "[nltk_data]    | Downloading package brown to /root/nltk_data...\n",
            "[nltk_data]    |   Unzipping corpora/brown.zip.\n",
            "[nltk_data]    | Downloading package chat80 to /root/nltk_data...\n",
            "[nltk_data]    |   Unzipping corpora/chat80.zip.\n",
            "[nltk_data]    | Downloading package cmudict to /root/nltk_data...\n",
            "[nltk_data]    |   Unzipping corpora/cmudict.zip.\n",
            "[nltk_data]    | Downloading package conll2000 to /root/nltk_data...\n",
            "[nltk_data]    |   Unzipping corpora/conll2000.zip.\n",
            "[nltk_data]    | Downloading package conll2002 to /root/nltk_data...\n",
            "[nltk_data]    |   Unzipping corpora/conll2002.zip.\n",
            "[nltk_data]    | Downloading package dependency_treebank to\n",
            "[nltk_data]    |     /root/nltk_data...\n",
            "[nltk_data]    |   Unzipping corpora/dependency_treebank.zip.\n",
            "[nltk_data]    | Downloading package genesis to /root/nltk_data...\n",
            "[nltk_data]    |   Unzipping corpora/genesis.zip.\n",
            "[nltk_data]    | Downloading package gutenberg to /root/nltk_data...\n",
            "[nltk_data]    |   Unzipping corpora/gutenberg.zip.\n",
            "[nltk_data]    | Downloading package ieer to /root/nltk_data...\n",
            "[nltk_data]    |   Unzipping corpora/ieer.zip.\n",
            "[nltk_data]    | Downloading package inaugural to /root/nltk_data...\n",
            "[nltk_data]    |   Unzipping corpora/inaugural.zip.\n",
            "[nltk_data]    | Downloading package movie_reviews to\n",
            "[nltk_data]    |     /root/nltk_data...\n",
            "[nltk_data]    |   Unzipping corpora/movie_reviews.zip.\n",
            "[nltk_data]    | Downloading package nps_chat to /root/nltk_data...\n",
            "[nltk_data]    |   Unzipping corpora/nps_chat.zip.\n",
            "[nltk_data]    | Downloading package names to /root/nltk_data...\n",
            "[nltk_data]    |   Unzipping corpora/names.zip.\n",
            "[nltk_data]    | Downloading package ppattach to /root/nltk_data...\n",
            "[nltk_data]    |   Unzipping corpora/ppattach.zip.\n",
            "[nltk_data]    | Downloading package reuters to /root/nltk_data...\n",
            "[nltk_data]    | Downloading package senseval to /root/nltk_data...\n",
            "[nltk_data]    |   Unzipping corpora/senseval.zip.\n",
            "[nltk_data]    | Downloading package state_union to /root/nltk_data...\n",
            "[nltk_data]    |   Unzipping corpora/state_union.zip.\n",
            "[nltk_data]    | Downloading package stopwords to /root/nltk_data...\n",
            "[nltk_data]    |   Unzipping corpora/stopwords.zip.\n",
            "[nltk_data]    | Downloading package swadesh to /root/nltk_data...\n",
            "[nltk_data]    |   Unzipping corpora/swadesh.zip.\n",
            "[nltk_data]    | Downloading package timit to /root/nltk_data...\n",
            "[nltk_data]    |   Unzipping corpora/timit.zip.\n",
            "[nltk_data]    | Downloading package treebank to /root/nltk_data...\n",
            "[nltk_data]    |   Unzipping corpora/treebank.zip.\n",
            "[nltk_data]    | Downloading package toolbox to /root/nltk_data...\n",
            "[nltk_data]    |   Unzipping corpora/toolbox.zip.\n",
            "[nltk_data]    | Downloading package udhr to /root/nltk_data...\n",
            "[nltk_data]    |   Unzipping corpora/udhr.zip.\n",
            "[nltk_data]    | Downloading package udhr2 to /root/nltk_data...\n",
            "[nltk_data]    |   Unzipping corpora/udhr2.zip.\n",
            "[nltk_data]    | Downloading package unicode_samples to\n",
            "[nltk_data]    |     /root/nltk_data...\n",
            "[nltk_data]    |   Unzipping corpora/unicode_samples.zip.\n",
            "[nltk_data]    | Downloading package webtext to /root/nltk_data...\n",
            "[nltk_data]    |   Unzipping corpora/webtext.zip.\n",
            "[nltk_data]    | Downloading package wordnet to /root/nltk_data...\n",
            "[nltk_data]    |   Unzipping corpora/wordnet.zip.\n",
            "[nltk_data]    | Downloading package wordnet_ic to /root/nltk_data...\n",
            "[nltk_data]    |   Unzipping corpora/wordnet_ic.zip.\n",
            "[nltk_data]    | Downloading package words to /root/nltk_data...\n",
            "[nltk_data]    |   Unzipping corpora/words.zip.\n",
            "[nltk_data]    | Downloading package maxent_treebank_pos_tagger to\n",
            "[nltk_data]    |     /root/nltk_data...\n",
            "[nltk_data]    |   Unzipping taggers/maxent_treebank_pos_tagger.zip.\n",
            "[nltk_data]    | Downloading package maxent_ne_chunker to\n",
            "[nltk_data]    |     /root/nltk_data...\n",
            "[nltk_data]    |   Unzipping chunkers/maxent_ne_chunker.zip.\n",
            "[nltk_data]    | Downloading package universal_tagset to\n",
            "[nltk_data]    |     /root/nltk_data...\n",
            "[nltk_data]    |   Unzipping taggers/universal_tagset.zip.\n",
            "[nltk_data]    | Downloading package punkt to /root/nltk_data...\n",
            "[nltk_data]    |   Unzipping tokenizers/punkt.zip.\n",
            "[nltk_data]    | Downloading package book_grammars to\n",
            "[nltk_data]    |     /root/nltk_data...\n",
            "[nltk_data]    |   Unzipping grammars/book_grammars.zip.\n",
            "[nltk_data]    | Downloading package city_database to\n",
            "[nltk_data]    |     /root/nltk_data...\n",
            "[nltk_data]    |   Unzipping corpora/city_database.zip.\n",
            "[nltk_data]    | Downloading package tagsets to /root/nltk_data...\n",
            "[nltk_data]    |   Unzipping help/tagsets.zip.\n",
            "[nltk_data]    | Downloading package panlex_swadesh to\n",
            "[nltk_data]    |     /root/nltk_data...\n",
            "[nltk_data]    | Downloading package averaged_perceptron_tagger to\n",
            "[nltk_data]    |     /root/nltk_data...\n",
            "[nltk_data]    |   Unzipping taggers/averaged_perceptron_tagger.zip.\n",
            "[nltk_data]    | \n",
            "[nltk_data]  Done downloading collection book\n",
            "*** Introductory Examples for the NLTK Book ***\n",
            "Loading text1, ..., text9 and sent1, ..., sent9\n",
            "Type the name of the text or sentence to view it.\n",
            "Type: 'texts()' or 'sents()' to list the materials.\n",
            "text1: Moby Dick by Herman Melville 1851\n",
            "text2: Sense and Sensibility by Jane Austen 1811\n",
            "text3: The Book of Genesis\n",
            "text4: Inaugural Address Corpus\n",
            "text5: Chat Corpus\n",
            "text6: Monty Python and the Holy Grail\n",
            "text7: Wall Street Journal\n",
            "text8: Personals Corpus\n",
            "text9: The Man Who Was Thursday by G . K . Chesterton 1908\n"
          ],
          "name": "stdout"
        }
      ]
    },
    {
      "cell_type": "markdown",
      "metadata": {
        "id": "gi7mMVYEbPDD"
      },
      "source": [
        "## Analysing a text"
      ]
    },
    {
      "cell_type": "code",
      "metadata": {
        "colab": {
          "base_uri": "https://localhost:8080/"
        },
        "id": "3oijvXdhbWcF",
        "outputId": "7f27bf94-f95b-4c50-dafe-07b28cf04417"
      },
      "source": [
        "text1"
      ],
      "execution_count": 2,
      "outputs": [
        {
          "output_type": "execute_result",
          "data": {
            "text/plain": [
              "<Text: Moby Dick by Herman Melville 1851>"
            ]
          },
          "metadata": {
            "tags": []
          },
          "execution_count": 2
        }
      ]
    },
    {
      "cell_type": "code",
      "metadata": {
        "colab": {
          "base_uri": "https://localhost:8080/"
        },
        "id": "YrbnpszEbfwY",
        "outputId": "de4494df-d700-43dd-c30d-7c7212b90980"
      },
      "source": [
        "text1.tokens[:10]"
      ],
      "execution_count": 4,
      "outputs": [
        {
          "output_type": "execute_result",
          "data": {
            "text/plain": [
              "['[',\n",
              " 'Moby',\n",
              " 'Dick',\n",
              " 'by',\n",
              " 'Herman',\n",
              " 'Melville',\n",
              " '1851',\n",
              " ']',\n",
              " 'ETYMOLOGY',\n",
              " '.']"
            ]
          },
          "metadata": {
            "tags": []
          },
          "execution_count": 4
        }
      ]
    },
    {
      "cell_type": "code",
      "metadata": {
        "colab": {
          "base_uri": "https://localhost:8080/"
        },
        "id": "eyc7uXeIbipP",
        "outputId": "0eb61df9-3239-4795-b09e-8a36fe976281"
      },
      "source": [
        "print(len(text1))"
      ],
      "execution_count": 5,
      "outputs": [
        {
          "output_type": "stream",
          "text": [
            "260819\n"
          ],
          "name": "stdout"
        }
      ]
    },
    {
      "cell_type": "markdown",
      "metadata": {
        "id": "0zSJgATBcCpF"
      },
      "source": [
        "## Measure of lexical richness of a text\n",
        "\n",
        "$$ R_l = \\frac{\\text{total de palabras únicas}}{\\text{total de palabras}} = \\frac{\\text{longitud del vocabulario}}{\\text{longitud del texto}}$$ "
      ]
    },
    {
      "cell_type": "code",
      "metadata": {
        "colab": {
          "base_uri": "https://localhost:8080/"
        },
        "id": "tL-CJp86b4-m",
        "outputId": "468c154c-7856-4203-f826-18e8a76f8857"
      },
      "source": [
        "# Primero realizamos la construcción de un vocabulario (identificamos las palabras unicas que hay en el libro)\n",
        "# https://docs.python.org/2/library/sets.html\n",
        "vocabulario = sorted(set(text1))\n",
        "print(vocabulario[1000:1050])"
      ],
      "execution_count": 10,
      "outputs": [
        {
          "output_type": "stream",
          "text": [
            "['Crew', 'Crish', 'Crockett', 'Cross', 'Crossed', 'Crossing', 'Crotch', 'Crowding', 'Crown', 'Crozetts', 'Cruelty', 'Cruising', 'Cruppered', 'Crusaders', 'Crushed', 'Crying', 'Cuba', 'Curious', 'Curse', 'Cursed', 'Curses', 'Cussed', 'Customs', 'Cut', 'Cutter', 'Cutting', 'Cuvier', 'Cyclades', 'Czar', 'D', 'DAGGOO', 'DAM', 'DANCE', 'DANCING', 'DANIEL', 'DANISH', 'DARKENS', 'DARWIN', 'DAVENANT', 'DEAD', 'DEATH', 'DEBELL', 'DECK', 'DEL', 'DESTROYED', 'DEVIL', 'DICTIONARY', 'DID', 'DIGNITY', 'DISCOVERS']\n"
          ],
          "name": "stdout"
        }
      ]
    },
    {
      "cell_type": "code",
      "metadata": {
        "colab": {
          "base_uri": "https://localhost:8080/"
        },
        "id": "YYGZJeYOcwpg",
        "outputId": "07067988-3756-4379-a849-6f306c16a23a"
      },
      "source": [
        "rl = len(vocabulario)/len(text1)\n",
        "print(rl)"
      ],
      "execution_count": 12,
      "outputs": [
        {
          "output_type": "stream",
          "text": [
            "0.07406285585022564\n"
          ],
          "name": "stdout"
        }
      ]
    },
    {
      "cell_type": "code",
      "metadata": {
        "colab": {
          "base_uri": "https://localhost:8080/"
        },
        "id": "Ak1vgnh7dSDQ",
        "outputId": "48be6ae8-f88d-4dad-81e8-38d21f340c89"
      },
      "source": [
        "def riqueza_lexica(texto):\n",
        "  vocabulario = sorted(set(text1))\n",
        "  return len(vocabulario)/len(texto)\n",
        "\n",
        "riqueza_lexica(text1)"
      ],
      "execution_count": 14,
      "outputs": [
        {
          "output_type": "execute_result",
          "data": {
            "text/plain": [
              "0.07406285585022564"
            ]
          },
          "metadata": {
            "tags": []
          },
          "execution_count": 14
        }
      ]
    },
    {
      "cell_type": "code",
      "metadata": {
        "id": "m6-S3yxSdlTT"
      },
      "source": [
        "def porcentaje_palabra(palabra, texto):\n",
        "  return 100*texto.count(palabra)/len(texto)"
      ],
      "execution_count": 16,
      "outputs": []
    },
    {
      "cell_type": "code",
      "metadata": {
        "colab": {
          "base_uri": "https://localhost:8080/"
        },
        "id": "nXI5SUYgd9qj",
        "outputId": "24503f36-f4df-41f6-d8b8-0f3a80f50eb3"
      },
      "source": [
        "porcentaje_palabra('monster', text1)"
      ],
      "execution_count": 17,
      "outputs": [
        {
          "output_type": "execute_result",
          "data": {
            "text/plain": [
              "0.018786974875296663"
            ]
          },
          "metadata": {
            "tags": []
          },
          "execution_count": 17
        }
      ]
    },
    {
      "cell_type": "code",
      "metadata": {
        "colab": {
          "base_uri": "https://localhost:8080/"
        },
        "id": "EH4IPovVeGiO",
        "outputId": "cc6d0427-2caf-40d5-c903-344fb39d851f"
      },
      "source": [
        "text1.count('monster')"
      ],
      "execution_count": 18,
      "outputs": [
        {
          "output_type": "execute_result",
          "data": {
            "text/plain": [
              "49"
            ]
          },
          "metadata": {
            "tags": []
          },
          "execution_count": 18
        }
      ]
    },
    {
      "cell_type": "markdown",
      "metadata": {
        "id": "rGWV1Bwgesgg"
      },
      "source": [
        "# Language statistics\n",
        "\n",
        "The simplest statistical calculations that can be carried out on a text or a corpus are those related to the frequency of appearance of words.\n",
        "\n",
        "* We can build a dictionary in Python where the keys are the words and the values are the frequencies of occurrences of those words. \n",
        "\n",
        "* Example `dic = {'monster': 49 ,  'boat': 54,  ...}`"
      ]
    },
    {
      "cell_type": "code",
      "metadata": {
        "colab": {
          "base_uri": "https://localhost:8080/"
        },
        "id": "2upV3SHveLkz",
        "outputId": "fd48f4c3-8984-43e5-a1eb-f2e77ba6ba7b"
      },
      "source": [
        "dic = {}\n",
        "for palabra in set(text1):\n",
        "  dic[palabra] = text1.count(palabra)\n",
        "dic"
      ],
      "execution_count": 19,
      "outputs": [
        {
          "output_type": "execute_result",
          "data": {
            "text/plain": [
              "{'Sunset': 1,\n",
              " 'jokes': 1,\n",
              " 'irresponsible': 1,\n",
              " 'incited': 1,\n",
              " 'connexion': 8,\n",
              " 'pulpits': 2,\n",
              " 'scepticism': 2,\n",
              " 'pate': 1,\n",
              " 'garter': 1,\n",
              " 'marshy': 2,\n",
              " 'sporting': 4,\n",
              " 'smooth': 9,\n",
              " 'allaying': 1,\n",
              " 'bushel': 1,\n",
              " 'roly': 1,\n",
              " 'duelled': 1,\n",
              " 'frozen': 10,\n",
              " 'sultan': 1,\n",
              " 'bridges': 2,\n",
              " 'Latter': 1,\n",
              " 'miserly': 1,\n",
              " 'passes': 2,\n",
              " 'analysis': 1,\n",
              " 'indignant': 2,\n",
              " 'ostentatious': 2,\n",
              " 'perilously': 2,\n",
              " 'Morquan': 1,\n",
              " 'arguing': 1,\n",
              " 'Iron': 2,\n",
              " 'animosity': 1,\n",
              " 'Crotch': 1,\n",
              " 'clung': 4,\n",
              " 'revels': 1,\n",
              " 'lexicographer': 1,\n",
              " 'armies': 4,\n",
              " 'hemlock': 1,\n",
              " 'sheer': 3,\n",
              " 'succeeding': 1,\n",
              " 'outlandish': 6,\n",
              " 'arrows': 2,\n",
              " 'recrossed': 1,\n",
              " 'supplants': 1,\n",
              " 'donkey': 2,\n",
              " 'regardful': 1,\n",
              " 'whereby': 9,\n",
              " 'scoured': 2,\n",
              " 'granting': 2,\n",
              " 'breathlessly': 1,\n",
              " 'hereabouts': 5,\n",
              " 'cinnamon': 1,\n",
              " 'abandonedly': 1,\n",
              " 'repairing': 3,\n",
              " 'spicy': 1,\n",
              " 'mildly': 10,\n",
              " 'begat': 3,\n",
              " 'Foremost': 1,\n",
              " 'digester': 1,\n",
              " 'cranes': 3,\n",
              " 'HAVING': 1,\n",
              " 'camel': 1,\n",
              " 'l': 1,\n",
              " 'stepping': 6,\n",
              " 'bathed': 2,\n",
              " 'regiments': 1,\n",
              " 'estimation': 3,\n",
              " 'evening': 18,\n",
              " 'averred': 2,\n",
              " 'dropped': 27,\n",
              " 'exhaustive': 1,\n",
              " 'Tunnels': 1,\n",
              " 'cherry': 2,\n",
              " 'intermixingly': 1,\n",
              " 'cove': 1,\n",
              " 'reply': 7,\n",
              " 'feeds': 4,\n",
              " 'ME': 4,\n",
              " 'worried': 1,\n",
              " 'Tropic': 1,\n",
              " 'VOYAGE': 7,\n",
              " 'relent': 1,\n",
              " 'spoil': 4,\n",
              " 'Furthermore': 4,\n",
              " 'befell': 5,\n",
              " 'CATCHES': 1,\n",
              " 'cable': 7,\n",
              " '108': 1,\n",
              " 'can': 220,\n",
              " 'launching': 2,\n",
              " 'papers': 10,\n",
              " 'occupies': 1,\n",
              " 'recovered': 4,\n",
              " 'station': 2,\n",
              " 'Brandreth': 1,\n",
              " 'mutual': 5,\n",
              " 'constrained': 2,\n",
              " 'reverberating': 1,\n",
              " 'disgorge': 1,\n",
              " 'stacking': 1,\n",
              " 'unheeded': 3,\n",
              " 'inanimate': 1,\n",
              " 'thickest': 4,\n",
              " 'serene': 8,\n",
              " 'mingled': 2,\n",
              " 'Business': 1,\n",
              " 'ascertained': 1,\n",
              " 'recentest': 1,\n",
              " 'allowance': 2,\n",
              " 'sink': 19,\n",
              " 'tube': 6,\n",
              " 'JEFFERSON': 1,\n",
              " 'OBED': 1,\n",
              " 'belayed': 1,\n",
              " 'murdered': 6,\n",
              " 'Hartz': 1,\n",
              " 'redeeming': 1,\n",
              " 'other': 412,\n",
              " 'deceived': 2,\n",
              " 'sinister': 2,\n",
              " 'fiercely': 5,\n",
              " 'swart': 5,\n",
              " 'Future': 1,\n",
              " 'whalin': 1,\n",
              " 'exasperations': 1,\n",
              " 'jinglers': 1,\n",
              " 'wear': 9,\n",
              " 'travellers': 3,\n",
              " 'KINROSS': 1,\n",
              " 'reported': 4,\n",
              " 'died': 20,\n",
              " 'accurate': 1,\n",
              " 'eagerness': 8,\n",
              " 'lovely': 11,\n",
              " 'effected': 3,\n",
              " 'glimpse': 10,\n",
              " 'Assaulted': 1,\n",
              " 'unflattering': 1,\n",
              " 'brisk': 4,\n",
              " 'thrones': 1,\n",
              " 'belaying': 1,\n",
              " 'LL': 2,\n",
              " 'chastisements': 1,\n",
              " 'Going': 6,\n",
              " 'rarely': 2,\n",
              " 'Belubed': 1,\n",
              " 'calmness': 2,\n",
              " 'farthing': 1,\n",
              " 'spearings': 1,\n",
              " 'spectrally': 1,\n",
              " 'cemeteries': 2,\n",
              " 'HIS': 17,\n",
              " 'WON': 1,\n",
              " 'where': 190,\n",
              " 'outright': 3,\n",
              " 'NESTS': 1,\n",
              " 'whim': 3,\n",
              " 'grating': 3,\n",
              " 'grope': 3,\n",
              " 'ever': 203,\n",
              " 'Eternity': 3,\n",
              " 'whalemen': 71,\n",
              " 'deriding': 1,\n",
              " 'manifestation': 1,\n",
              " 'gallery': 3,\n",
              " 'nod': 2,\n",
              " 'betrayed': 6,\n",
              " 'hinder': 1,\n",
              " 'waifed': 1,\n",
              " 'unfavourable': 1,\n",
              " 'Stripped': 1,\n",
              " 'memories': 4,\n",
              " 'relaxed': 4,\n",
              " 'tier': 2,\n",
              " 'unavoidably': 1,\n",
              " 'sickness': 2,\n",
              " 'decidedly': 1,\n",
              " 'Owen': 5,\n",
              " 'rifled': 1,\n",
              " 'servants': 1,\n",
              " 'suspending': 3,\n",
              " 'steals': 2,\n",
              " 'nowhere': 5,\n",
              " 'regard': 9,\n",
              " 'Pottsfich': 1,\n",
              " 'crazy': 14,\n",
              " 'nearer': 15,\n",
              " 'gloating': 1,\n",
              " 'views': 3,\n",
              " 'dismemberment': 1,\n",
              " 'volumes': 2,\n",
              " 'idle': 3,\n",
              " 'underived': 1,\n",
              " 'doltish': 1,\n",
              " 'awaited': 2,\n",
              " 'unborrowed': 1,\n",
              " 'bruised': 1,\n",
              " 'Equator': 7,\n",
              " 'blacksmiths': 3,\n",
              " 'reckoning': 4,\n",
              " 'brotherly': 2,\n",
              " 'ARCTIC': 1,\n",
              " 'State': 4,\n",
              " 'induce': 5,\n",
              " 'Tumble': 1,\n",
              " 'Gaining': 1,\n",
              " 'wearing': 4,\n",
              " 'lament': 1,\n",
              " 'declines': 2,\n",
              " 'meets': 3,\n",
              " 'poem': 2,\n",
              " 'natur': 3,\n",
              " 'aesthetically': 1,\n",
              " 'alb': 1,\n",
              " 'unsolved': 1,\n",
              " 'um': 7,\n",
              " 'crows': 2,\n",
              " 'waited': 1,\n",
              " 'dishonour': 2,\n",
              " 'races': 1,\n",
              " 'burly': 2,\n",
              " 'forgetting': 1,\n",
              " 'car': 1,\n",
              " 'Porpoise': 10,\n",
              " 'ALIVE': 1,\n",
              " 'MAIN': 1,\n",
              " 'obtained': 7,\n",
              " 'obliged': 5,\n",
              " 'roughly': 1,\n",
              " 'halt': 1,\n",
              " 'excludes': 1,\n",
              " 'African': 3,\n",
              " 'pelt': 3,\n",
              " 'roses': 4,\n",
              " 'riveted': 5,\n",
              " 'edging': 1,\n",
              " 'grains': 1,\n",
              " 'beehive': 1,\n",
              " 'described': 8,\n",
              " 'predestinated': 4,\n",
              " 'Throw': 1,\n",
              " 'kennel': 1,\n",
              " 'spangling': 1,\n",
              " 'Empire': 2,\n",
              " 'carefully': 10,\n",
              " 'hangs': 6,\n",
              " 'bulky': 3,\n",
              " 'legal': 2,\n",
              " 'manoeuvre': 1,\n",
              " 'huzza': 2,\n",
              " 'Bell': 2,\n",
              " 'staid': 2,\n",
              " 'clover': 1,\n",
              " 'deepest': 6,\n",
              " 'dodging': 3,\n",
              " 'innocently': 1,\n",
              " 'untold': 1,\n",
              " 'colonnades': 2,\n",
              " 'might': 183,\n",
              " 'terrify': 3,\n",
              " 'headlong': 7,\n",
              " 'Scotch': 3,\n",
              " 'bashful': 1,\n",
              " 'lighthouse': 1,\n",
              " 'luggers': 1,\n",
              " 'load': 3,\n",
              " 'liar': 1,\n",
              " 'equally': 8,\n",
              " 'problem': 7,\n",
              " 'repentant': 1,\n",
              " 'challenge': 1,\n",
              " 'closely': 14,\n",
              " 'plunder': 2,\n",
              " 'banded': 1,\n",
              " 'denominate': 1,\n",
              " 'togged': 1,\n",
              " 'SULKY': 1,\n",
              " 'peeled': 4,\n",
              " 'linen': 4,\n",
              " 'resolves': 2,\n",
              " 'computed': 1,\n",
              " 'folded': 8,\n",
              " 'Swerve': 2,\n",
              " 'Therefore': 11,\n",
              " 'Union': 1,\n",
              " 'managing': 1,\n",
              " 'lovers': 3,\n",
              " 'GANGWAY': 1,\n",
              " 'lively': 13,\n",
              " 'cutlass': 1,\n",
              " 'necessities': 3,\n",
              " 'artificial': 5,\n",
              " 'divings': 1,\n",
              " 'nosed': 1,\n",
              " 'associated': 1,\n",
              " 'bamboozingly': 1,\n",
              " 'squint': 2,\n",
              " 'lurked': 8,\n",
              " 'proportion': 3,\n",
              " 'belt': 5,\n",
              " 'taller': 1,\n",
              " 'overscorning': 1,\n",
              " 'laceration': 1,\n",
              " 'mastications': 1,\n",
              " 'childish': 1,\n",
              " 'outset': 3,\n",
              " 'spoiling': 1,\n",
              " 'naturae': 1,\n",
              " 'Beloved': 1,\n",
              " 'extravaganzas': 1,\n",
              " 'drawers': 7,\n",
              " 'suit': 7,\n",
              " 'Teneriffe': 2,\n",
              " 'utterance': 2,\n",
              " 'invisibly': 2,\n",
              " 'freshening': 1,\n",
              " 'chucks': 1,\n",
              " 'placidly': 1,\n",
              " 'frame': 4,\n",
              " 'yet': 300,\n",
              " 'Hosmannus': 1,\n",
              " 'spilling': 2,\n",
              " 'internationally': 1,\n",
              " 'condensation': 1,\n",
              " 'Intolerably': 1,\n",
              " 'reticule': 1,\n",
              " 'separable': 1,\n",
              " 'firmest': 1,\n",
              " 'dined': 4,\n",
              " 'astonishing': 2,\n",
              " 'unattended': 3,\n",
              " 'FIRMLY': 1,\n",
              " 'sighs': 2,\n",
              " 'pressure': 4,\n",
              " 'filliping': 1,\n",
              " 'sereneness': 1,\n",
              " 'heels': 2,\n",
              " 'hearsed': 2,\n",
              " 'Any': 6,\n",
              " 'abased': 2,\n",
              " 'dissemble': 1,\n",
              " 'published': 8,\n",
              " 'killer': 1,\n",
              " 'wounds': 1,\n",
              " 'imperfect': 2,\n",
              " 'spouting': 11,\n",
              " 'rake': 2,\n",
              " 'Missouri': 2,\n",
              " 'manifest': 1,\n",
              " 'cankerous': 1,\n",
              " 'kicked': 9,\n",
              " 'CHINA': 1,\n",
              " 'innumerable': 2,\n",
              " 'conclusion': 6,\n",
              " 'slower': 1,\n",
              " 'princely': 2,\n",
              " 'teachings': 2,\n",
              " 'potatoes': 1,\n",
              " 'clenching': 1,\n",
              " 'Huggins': 2,\n",
              " 'doubted': 5,\n",
              " 'dolphin': 4,\n",
              " 'feastest': 1,\n",
              " 'Pannangians': 1,\n",
              " 'Giving': 2,\n",
              " 'Lamp': 1,\n",
              " 'incontinently': 1,\n",
              " 'Webster': 2,\n",
              " 'reigneth': 1,\n",
              " 'domineerings': 1,\n",
              " 'FIN': 2,\n",
              " 'eminently': 1,\n",
              " 'companionway': 1,\n",
              " 'than': 309,\n",
              " 'unreliable': 1,\n",
              " 'conflicting': 1,\n",
              " 'chattering': 1,\n",
              " 'bachelor': 1,\n",
              " 'afore': 5,\n",
              " 'reclining': 2,\n",
              " 'footpath': 1,\n",
              " 'universe': 6,\n",
              " 'mutely': 2,\n",
              " 'piers': 1,\n",
              " 'mainly': 2,\n",
              " 'fell': 36,\n",
              " 'neutral': 3,\n",
              " 'atom': 1,\n",
              " 'palisades': 1,\n",
              " 'unread': 1,\n",
              " 'permanent': 4,\n",
              " '131': 1,\n",
              " 'Bowditch': 3,\n",
              " 'roundness': 1,\n",
              " 'compress': 1,\n",
              " 'van': 4,\n",
              " 'jubilations': 1,\n",
              " 'casements': 2,\n",
              " 'clappings': 1,\n",
              " 'branches': 5,\n",
              " 'kentledge': 1,\n",
              " 'overgrowth': 1,\n",
              " 'ultimately': 1,\n",
              " 'capsize': 1,\n",
              " 'unfailing': 1,\n",
              " 'reverse': 1,\n",
              " 'seaman': 13,\n",
              " 'insinuated': 1,\n",
              " 'adapted': 4,\n",
              " 'unerringly': 2,\n",
              " 'slumber': 3,\n",
              " 'sons': 4,\n",
              " 'darbies': 1,\n",
              " 'tension': 3,\n",
              " 'half': 135,\n",
              " 'rolls': 14,\n",
              " 'pauper': 1,\n",
              " 'Verily': 1,\n",
              " 'irresistibleness': 1,\n",
              " 'offence': 1,\n",
              " 'unmisgiving': 1,\n",
              " 'mathematical': 3,\n",
              " 'Unhinge': 1,\n",
              " 'muster': 1,\n",
              " 'litter': 2,\n",
              " 'Hyperborean': 2,\n",
              " 'universality': 1,\n",
              " 'cavities': 1,\n",
              " 'remains': 24,\n",
              " 'preserving': 2,\n",
              " 'yielded': 2,\n",
              " 'rapidly': 19,\n",
              " 'breaks': 5,\n",
              " 'signal': 7,\n",
              " 'Shem': 1,\n",
              " 'paler': 1,\n",
              " 'glimmering': 1,\n",
              " 'quiescence': 1,\n",
              " 'Nature': 8,\n",
              " 'goal': 2,\n",
              " 'congenial': 5,\n",
              " 'fireplaces': 1,\n",
              " 'locality': 1,\n",
              " 'married': 3,\n",
              " 'splintered': 7,\n",
              " \",--'\": 2,\n",
              " 'Every': 10,\n",
              " 'Abednego': 1,\n",
              " 'Please': 1,\n",
              " 'jingling': 2,\n",
              " 'premium': 2,\n",
              " 'breaking': 16,\n",
              " 'appallingly': 1,\n",
              " 'Wapping': 2,\n",
              " 'devotee': 1,\n",
              " 'Arrayed': 1,\n",
              " 'engulphed': 1,\n",
              " 'coasts': 7,\n",
              " 'notes': 3,\n",
              " 'cite': 1,\n",
              " 'quills': 2,\n",
              " 'howl': 4,\n",
              " 'anchors': 6,\n",
              " 'musically': 1,\n",
              " 'graveyards': 1,\n",
              " 'vomit': 2,\n",
              " 'Applied': 1,\n",
              " 'stall': 1,\n",
              " 'alas': 8,\n",
              " 'halting': 3,\n",
              " 'officially': 1,\n",
              " 'villany': 1,\n",
              " 'drug': 1,\n",
              " 'lowerings': 2,\n",
              " 'Sleep': 1,\n",
              " 'Jew': 1,\n",
              " 'produce': 5,\n",
              " 'thundered': 1,\n",
              " 'employment': 1,\n",
              " 'Falsehood': 1,\n",
              " 'Lay': 4,\n",
              " 'fears': 6,\n",
              " 'rowed': 1,\n",
              " 'Kills': 1,\n",
              " 'keeling': 1,\n",
              " 'cherubim': 1,\n",
              " 'beached': 1,\n",
              " 'ponderings': 1,\n",
              " 'unsuffusing': 1,\n",
              " 'applies': 3,\n",
              " 'birds': 11,\n",
              " 'mighty': 47,\n",
              " 'approving': 1,\n",
              " 'cold': 30,\n",
              " 'freewill': 1,\n",
              " 'spurs': 2,\n",
              " 'mouthfuls': 3,\n",
              " 'Commodore': 9,\n",
              " 'uniformity': 1,\n",
              " 'Crish': 1,\n",
              " 'press': 3,\n",
              " 'presentiment': 2,\n",
              " 'Kill': 3,\n",
              " 'rushing': 17,\n",
              " 'savage': 54,\n",
              " 'symbolized': 1,\n",
              " 'intimation': 1,\n",
              " 'overleap': 1,\n",
              " 'variety': 3,\n",
              " 'Burst': 1,\n",
              " 'enlightened': 4,\n",
              " 'molifier': 1,\n",
              " 'stabbing': 3,\n",
              " 'quarrelsomely': 1,\n",
              " 'apple': 4,\n",
              " 'approve': 1,\n",
              " 'willing': 4,\n",
              " 'Czar': 5,\n",
              " 'SCORESBY': 1,\n",
              " 'frankly': 3,\n",
              " 'molesting': 1,\n",
              " 'goblets': 3,\n",
              " 'piping': 1,\n",
              " 'used': 48,\n",
              " 'buckets': 4,\n",
              " 'Cough': 1,\n",
              " 'rock': 14,\n",
              " 'ruddy': 3,\n",
              " 'much': 218,\n",
              " 'potentially': 1,\n",
              " 'rivet': 1,\n",
              " 'logs': 2,\n",
              " 'cluster': 4,\n",
              " 'intermeddling': 1,\n",
              " 'wanderer': 1,\n",
              " 'glowing': 4,\n",
              " 'dividends': 1,\n",
              " 'bluntly': 1,\n",
              " 'eat': 11,\n",
              " 'Sailing': 1,\n",
              " 'in': 3916,\n",
              " 'darting': 14,\n",
              " 'sport': 3,\n",
              " 'long': 318,\n",
              " 'procuring': 1,\n",
              " 'prophesies': 1,\n",
              " 'cascading': 1,\n",
              " 'shallows': 1,\n",
              " 'foretell': 1,\n",
              " 'anomaly': 2,\n",
              " 'steward': 16,\n",
              " 'founder': 2,\n",
              " 'JOHN': 2,\n",
              " 'gospel': 1,\n",
              " 'impart': 2,\n",
              " 'nutmeg': 1,\n",
              " 'Bally': 1,\n",
              " 'Frobisher': 1,\n",
              " 'sprinklings': 1,\n",
              " \"'\": 2684,\n",
              " 'otherwise': 26,\n",
              " 'deeds': 2,\n",
              " 'magic': 9,\n",
              " 'Lion': 1,\n",
              " 'transpire': 1,\n",
              " 'MACY': 2,\n",
              " 'dispersed': 2,\n",
              " 'concentric': 3,\n",
              " 'bejuggled': 1,\n",
              " 'MALTESE': 2,\n",
              " 'wester': 1,\n",
              " 'anonymous': 2,\n",
              " 'squeezing': 4,\n",
              " 'inquire': 3,\n",
              " 'frocks': 2,\n",
              " 'Sell': 1,\n",
              " 'savor': 4,\n",
              " 'dention': 2,\n",
              " 'swift': 24,\n",
              " 'sleet': 7,\n",
              " 'silver': 13,\n",
              " 'reminiscences': 2,\n",
              " 'hobbling': 2,\n",
              " 'comparable': 1,\n",
              " 'ghastly': 5,\n",
              " 'Paean': 1,\n",
              " 'axles': 1,\n",
              " 'mocked': 1,\n",
              " 'cogent': 4,\n",
              " 'clingest': 1,\n",
              " 'continually': 17,\n",
              " 'author': 6,\n",
              " 'inequality': 1,\n",
              " 'Globe': 1,\n",
              " 'trumps': 1,\n",
              " 'Fates': 6,\n",
              " 'jugglers': 1,\n",
              " 'grand': 43,\n",
              " 'unobtrusive': 1,\n",
              " 'examination': 1,\n",
              " 'salutes': 1,\n",
              " 'Skin': 1,\n",
              " 'wittiness': 1,\n",
              " 'weakness': 2,\n",
              " 'wrung': 1,\n",
              " 'boiler': 2,\n",
              " 'preparations': 2,\n",
              " 'blankets': 1,\n",
              " 'Southern': 7,\n",
              " 'Paracelsan': 1,\n",
              " 'surf': 5,\n",
              " 'swash': 1,\n",
              " 'peppered': 1,\n",
              " 'lumbered': 1,\n",
              " 'SMALL': 1,\n",
              " '29': 1,\n",
              " 'Knights': 2,\n",
              " 'Could': 1,\n",
              " 'homes': 1,\n",
              " 'Say': 7,\n",
              " 'chuckle': 1,\n",
              " 'rejecting': 2,\n",
              " 'unsounded': 4,\n",
              " 'comparatively': 8,\n",
              " 'trophy': 2,\n",
              " 'establishment': 1,\n",
              " 'borrowed': 3,\n",
              " 'solicited': 1,\n",
              " 'poured': 5,\n",
              " 'superfluousness': 1,\n",
              " 'spawned': 1,\n",
              " 'Bones': 1,\n",
              " 'jumped': 10,\n",
              " 'except': 31,\n",
              " 'castors': 2,\n",
              " 'FLOOD': 1,\n",
              " 'gazettes': 1,\n",
              " 'edge': 7,\n",
              " 'Middle': 2,\n",
              " 'nameless': 18,\n",
              " 'exploded': 1,\n",
              " 'supplementary': 4,\n",
              " 'horseback': 1,\n",
              " 'thrice': 7,\n",
              " 'resemblance': 6,\n",
              " 'repute': 1,\n",
              " 'Brother': 1,\n",
              " 'posture': 5,\n",
              " 'spurred': 1,\n",
              " 'CRUISE': 2,\n",
              " 'outlandishness': 1,\n",
              " 'grudge': 2,\n",
              " 'retraced': 1,\n",
              " 'glories': 4,\n",
              " '10': 4,\n",
              " 'considered': 14,\n",
              " 'dams': 2,\n",
              " 'deserve': 2,\n",
              " 'nourishing': 1,\n",
              " 'SEAMS': 1,\n",
              " 'Retribution': 1,\n",
              " 'chiefs': 1,\n",
              " 'bland': 2,\n",
              " 'ribbons': 1,\n",
              " 'shoemaker': 1,\n",
              " 'thirteenth': 1,\n",
              " 'unhooped': 1,\n",
              " 'ma': 2,\n",
              " 'Siberia': 2,\n",
              " 'wad': 4,\n",
              " 'purely': 3,\n",
              " 'gale': 28,\n",
              " 'hand': 205,\n",
              " 'Quick': 9,\n",
              " 'worst': 2,\n",
              " 'Lama': 1,\n",
              " 'object': 39,\n",
              " 'questionably': 1,\n",
              " 'parents': 1,\n",
              " 'saints': 1,\n",
              " 'responses': 1,\n",
              " 'unaccompanied': 2,\n",
              " 'joining': 1,\n",
              " 'shuttle': 6,\n",
              " 'Will': 12,\n",
              " 'spile': 2,\n",
              " 'Lapland': 1,\n",
              " 'mud': 1,\n",
              " 'confidentially': 1,\n",
              " 'Hurriedly': 1,\n",
              " 'tale': 4,\n",
              " 'transports': 1,\n",
              " 'stiffen': 1,\n",
              " 'dented': 4,\n",
              " 'pier': 1,\n",
              " 'necessarily': 2,\n",
              " 'XVI': 1,\n",
              " 'envoy': 1,\n",
              " 'played': 2,\n",
              " 'separating': 3,\n",
              " 'bowstring': 1,\n",
              " 'assaults': 5,\n",
              " 'NAT': 1,\n",
              " 'as': 1620,\n",
              " 'witnessing': 2,\n",
              " 'transactions': 1,\n",
              " 'growing': 9,\n",
              " 'punchbowl': 4,\n",
              " 'indiscretions': 1,\n",
              " 'RAPE': 1,\n",
              " 'Archer': 2,\n",
              " 'particularly': 8,\n",
              " 'gardens': 3,\n",
              " 'ripening': 1,\n",
              " 'droves': 1,\n",
              " 'ripples': 2,\n",
              " 'heinousness': 1,\n",
              " 'superfluous': 3,\n",
              " 'famous': 35,\n",
              " 'conveyance': 1,\n",
              " 'condemning': 2,\n",
              " 'interfusing': 1,\n",
              " 'Fashioned': 1,\n",
              " 'recreate': 1,\n",
              " 'Franklin': 1,\n",
              " 'famed': 3,\n",
              " 'wretchedly': 1,\n",
              " 'Whose': 1,\n",
              " 'seeking': 12,\n",
              " 'prudent': 7,\n",
              " 'significant': 11,\n",
              " 'river': 6,\n",
              " 'twitched': 3,\n",
              " 'boasted': 3,\n",
              " 'outspread': 1,\n",
              " 'looped': 1,\n",
              " 'killers': 1,\n",
              " 'sweetener': 1,\n",
              " 'chalking': 1,\n",
              " 'dejected': 1,\n",
              " 'doubloons': 7,\n",
              " 'remaining': 10,\n",
              " 'attains': 1,\n",
              " 'familiarly': 5,\n",
              " 'principal': 4,\n",
              " 'Inlanders': 1,\n",
              " 'shouting': 5,\n",
              " 'invented': 2,\n",
              " 'cruisings': 2,\n",
              " 'depths': 10,\n",
              " 'yawingly': 1,\n",
              " 'ajar': 1,\n",
              " 'LORD': 1,\n",
              " 'crowing': 1,\n",
              " 'bow': 44,\n",
              " 'Logan': 1,\n",
              " 'hatchings': 1,\n",
              " 'Samuel': 9,\n",
              " 'stacks': 2,\n",
              " 'flourish': 3,\n",
              " 'Fernandes': 1,\n",
              " 'swimming': 29,\n",
              " 'abominable': 2,\n",
              " 'familiarity': 1,\n",
              " 'Crozetts': 3,\n",
              " 'exceeds': 1,\n",
              " 'bandbox': 1,\n",
              " 'ministry': 1,\n",
              " 'outbranching': 1,\n",
              " 'topple': 1,\n",
              " 'MULTUM': 1,\n",
              " 'sixteenth': 1,\n",
              " 'acquiesced': 1,\n",
              " 'feints': 1,\n",
              " 'somewhat': 27,\n",
              " 'spite': 16,\n",
              " 'rocky': 4,\n",
              " 'fort': 1,\n",
              " 'accompanies': 1,\n",
              " 'encircling': 2,\n",
              " 'jungle': 1,\n",
              " 'bowsmen': 1,\n",
              " 'arrantest': 1,\n",
              " 'marlinspikes': 1,\n",
              " 'liest': 1,\n",
              " 'address': 4,\n",
              " 'drowsy': 2,\n",
              " 'reservoirs': 1,\n",
              " 'hilted': 1,\n",
              " 'turmoil': 1,\n",
              " 'defence': 1,\n",
              " 'amusing': 1,\n",
              " 'mob': 5,\n",
              " 'clothing': 3,\n",
              " 'imposingly': 1,\n",
              " 'loud': 12,\n",
              " 'surround': 2,\n",
              " 'supplies': 3,\n",
              " 'ruptured': 1,\n",
              " 'bobbed': 1,\n",
              " 'snuffing': 3,\n",
              " 'unforseen': 1,\n",
              " 'accompany': 2,\n",
              " 'gold': 39,\n",
              " 'frontier': 1,\n",
              " 'essay': 1,\n",
              " 'solve': 3,\n",
              " 'seignories': 1,\n",
              " 'fluking': 1,\n",
              " 'intrantem': 1,\n",
              " 'saddest': 4,\n",
              " 'diversion': 2,\n",
              " 'Look': 51,\n",
              " 'roll': 16,\n",
              " 'begin': 12,\n",
              " 'weep': 2,\n",
              " 'friend': 25,\n",
              " 'declares': 3,\n",
              " 'villains': 3,\n",
              " 'amputate': 1,\n",
              " 'likely': 2,\n",
              " 'topmaul': 1,\n",
              " 'craft': 54,\n",
              " 'flowery': 3,\n",
              " 'scimetar': 1,\n",
              " 'pest': 1,\n",
              " 'fists': 1,\n",
              " 'Met': 1,\n",
              " 'Feegee': 1,\n",
              " 'fundamentals': 1,\n",
              " 'ventilated': 1,\n",
              " 'desisted': 2,\n",
              " 'kingly': 1,\n",
              " 'butts': 5,\n",
              " 'vigor': 1,\n",
              " 'Cutter': 1,\n",
              " 'Pantheon': 1,\n",
              " 'whoop': 1,\n",
              " 'lobtailing': 1,\n",
              " 'descends': 2,\n",
              " 'developments': 1,\n",
              " 'crash': 2,\n",
              " 'marbleized': 1,\n",
              " 'whooping': 1,\n",
              " 'pagan': 15,\n",
              " 'easy': 38,\n",
              " 'thine': 17,\n",
              " 'February': 1,\n",
              " 'Through': 6,\n",
              " 'loss': 9,\n",
              " 'Hill': 1,\n",
              " 'WINDOWS': 1,\n",
              " 'swerve': 4,\n",
              " 'Mean': 1,\n",
              " 'open': 75,\n",
              " 'Assume': 1,\n",
              " 'dissociated': 1,\n",
              " 'Snarles': 1,\n",
              " 'latest': 3,\n",
              " 'heroic': 2,\n",
              " 'Dagon': 1,\n",
              " 'consciously': 1,\n",
              " 'Often': 4,\n",
              " 'pickled': 1,\n",
              " 'MONTGOMERY': 1,\n",
              " 'productive': 1,\n",
              " 'chimed': 1,\n",
              " 'fearfulness': 3,\n",
              " 'splendors': 1,\n",
              " 'ungarnished': 1,\n",
              " 'FOLLOW': 2,\n",
              " 'choke': 1,\n",
              " 'purposes': 3,\n",
              " 'chronicled': 2,\n",
              " 'salvation': 5,\n",
              " 'gunpowder': 2,\n",
              " 'genera': 1,\n",
              " 'nations': 12,\n",
              " 'TO': 21,\n",
              " 'stories': 7,\n",
              " 'flagon': 1,\n",
              " 'learnedly': 2,\n",
              " 'subscribes': 1,\n",
              " 'Cervantes': 1,\n",
              " 'survives': 1,\n",
              " 'hulls': 5,\n",
              " 'forbid': 1,\n",
              " 'hauled': 9,\n",
              " 'sustaining': 2,\n",
              " 'Tails': 1,\n",
              " 'contrivance': 2,\n",
              " 'endures': 1,\n",
              " 'vessel': 54,\n",
              " 'stepmothers': 1,\n",
              " 'sinews': 3,\n",
              " '87': 1,\n",
              " 'Hish': 1,\n",
              " 'splashing': 1,\n",
              " 'CHEEVER': 1,\n",
              " 'ruins': 2,\n",
              " 'popularize': 1,\n",
              " 'smiled': 1,\n",
              " 'ramparts': 1,\n",
              " 'stated': 4,\n",
              " 'starts': 4,\n",
              " 'neighbour': 1,\n",
              " 'managed': 1,\n",
              " 'oblivious': 4,\n",
              " 'resumed': 6,\n",
              " 'pike': 9,\n",
              " 'age': 21,\n",
              " 'damned': 6,\n",
              " 'accursed': 9,\n",
              " 'kidnapped': 1,\n",
              " 'descry': 1,\n",
              " 'ONE': 4,\n",
              " 'swimmer': 2,\n",
              " 'inflated': 1,\n",
              " 'Another': 8,\n",
              " 'hinted': 25,\n",
              " 'scorched': 6,\n",
              " 'sneaks': 1,\n",
              " 'Muezzin': 1,\n",
              " 'Also': 3,\n",
              " 'Commons': 1,\n",
              " 'obliquity': 1,\n",
              " 'elucidated': 3,\n",
              " 'maine': 1,\n",
              " 'Pollard': 3,\n",
              " 'deal': 12,\n",
              " 'problems': 2,\n",
              " 'fissure': 2,\n",
              " 'heave': 16,\n",
              " 'brains': 8,\n",
              " 'ELIZA': 1,\n",
              " 'scraggy': 1,\n",
              " 'deftly': 2,\n",
              " 'specially': 8,\n",
              " 'experiments': 1,\n",
              " 'rustling': 1,\n",
              " 'Nantucket': 85,\n",
              " 'portion': 4,\n",
              " 'heathen': 3,\n",
              " 'tops': 4,\n",
              " 'flat': 7,\n",
              " 'individually': 1,\n",
              " 'encounters': 4,\n",
              " ';--\"': 1,\n",
              " 'unwinding': 1,\n",
              " 'lifted': 16,\n",
              " 'spill': 1,\n",
              " 'orlop': 2,\n",
              " 'weathering': 1,\n",
              " 'shrivelled': 2,\n",
              " 'nation': 5,\n",
              " 'finger': 13,\n",
              " 'Cain': 2,\n",
              " 'undraped': 1,\n",
              " 'Albicore': 1,\n",
              " 'SKY': 1,\n",
              " 'attitude': 7,\n",
              " 'Hogarth': 1,\n",
              " 'oak': 5,\n",
              " 'temperance': 1,\n",
              " 'ebbs': 1,\n",
              " 'hissing': 4,\n",
              " 'silences': 1,\n",
              " 'refreshing': 1,\n",
              " 'Log': 1,\n",
              " 'fawned': 1,\n",
              " 'globular': 4,\n",
              " 'exterminates': 1,\n",
              " 'mouldy': 5,\n",
              " 'squalls': 5,\n",
              " 'distilled': 1,\n",
              " 'furrow': 1,\n",
              " 'heavy': 37,\n",
              " 'inflexibility': 1,\n",
              " 'speaker': 1,\n",
              " 'bomb': 1,\n",
              " 'Guernsey': 11,\n",
              " 'landlord': 27,\n",
              " 'Monongahela': 1,\n",
              " 'incuriously': 1,\n",
              " 'Jordan': 1,\n",
              " 'spine': 17,\n",
              " 'imputed': 3,\n",
              " 'fullers': 1,\n",
              " 'unharmed': 5,\n",
              " 'Amelia': 2,\n",
              " 'sufficient': 5,\n",
              " 'capital': 3,\n",
              " 'Chart': 1,\n",
              " 'escaped': 10,\n",
              " 'PACIFIC': 2,\n",
              " 'religions': 3,\n",
              " 'analytic': 1,\n",
              " 'include': 5,\n",
              " 'passions': 2,\n",
              " 'any': 320,\n",
              " 'diabolical': 2,\n",
              " 'Does': 6,\n",
              " ...}"
            ]
          },
          "metadata": {
            "tags": []
          },
          "execution_count": 19
        }
      ]
    },
    {
      "cell_type": "markdown",
      "metadata": {
        "id": "O_wkGhOzfvU2"
      },
      "source": [
        "## FredDist Method of NLTK"
      ]
    },
    {
      "cell_type": "code",
      "metadata": {
        "id": "G5Rwp_JFfgFK"
      },
      "source": [
        "fdist = FreqDist(text1)"
      ],
      "execution_count": 20,
      "outputs": []
    },
    {
      "cell_type": "code",
      "metadata": {
        "id": "v0phQrMOf6oR",
        "outputId": "11cccb50-1d6f-4237-ba76-3a057614f942",
        "colab": {
          "base_uri": "https://localhost:8080/"
        }
      },
      "source": [
        "fdist.most_common(20)"
      ],
      "execution_count": 21,
      "outputs": [
        {
          "output_type": "execute_result",
          "data": {
            "text/plain": [
              "[(',', 18713),\n",
              " ('the', 13721),\n",
              " ('.', 6862),\n",
              " ('of', 6536),\n",
              " ('and', 6024),\n",
              " ('a', 4569),\n",
              " ('to', 4542),\n",
              " (';', 4072),\n",
              " ('in', 3916),\n",
              " ('that', 2982),\n",
              " (\"'\", 2684),\n",
              " ('-', 2552),\n",
              " ('his', 2459),\n",
              " ('it', 2209),\n",
              " ('I', 2124),\n",
              " ('s', 1739),\n",
              " ('is', 1695),\n",
              " ('he', 1661),\n",
              " ('with', 1659),\n",
              " ('was', 1632)]"
            ]
          },
          "metadata": {
            "tags": []
          },
          "execution_count": 21
        }
      ]
    },
    {
      "cell_type": "code",
      "metadata": {
        "id": "4HxqxTYCf-pu",
        "outputId": "0a934e58-95b8-47de-d8d9-0e0ab28d1c24",
        "colab": {
          "base_uri": "https://localhost:8080/",
          "height": 291
        }
      },
      "source": [
        "fdist.plot(20)"
      ],
      "execution_count": 23,
      "outputs": [
        {
          "output_type": "display_data",
          "data": {
            "image/png": "[encoded data removed]",
            "text/plain": [
              "<Figure size 432x288 with 1 Axes>"
            ]
          },
          "metadata": {
            "tags": [],
            "needs_background": "light"
          }
        }
      ]
    },
    {
      "cell_type": "code",
      "metadata": {
        "id": "YL7zzPUygFiz",
        "outputId": "fd3ee8d3-6423-4570-ff54-8062c4e100c8",
        "colab": {
          "base_uri": "https://localhost:8080/"
        }
      },
      "source": [
        "fdist['monster']"
      ],
      "execution_count": 24,
      "outputs": [
        {
          "output_type": "execute_result",
          "data": {
            "text/plain": [
              "49"
            ]
          },
          "metadata": {
            "tags": []
          },
          "execution_count": 24
        }
      ]
    },
    {
      "cell_type": "code",
      "metadata": {
        "id": "Zf1VGm2egRRl"
      },
      "source": [
        ""
      ],
      "execution_count": null,
      "outputs": []
    }
  ]
}